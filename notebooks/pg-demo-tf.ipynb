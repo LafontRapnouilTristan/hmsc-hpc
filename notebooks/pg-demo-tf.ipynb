{
 "cells": [
  {
   "cell_type": "code",
   "execution_count": 1,
   "id": "aba3ee8f",
   "metadata": {
    "id": "aba3ee8f"
   },
   "outputs": [],
   "source": [
    "import math\n",
    "import numpy as np\n",
    "import matplotlib.pyplot as plt\n",
    "import tensorflow as tf\n",
    "import tensorflow_probability as tfp\n",
    "\n",
    "tfd = tfp.distributions\n",
    "tfm, tfr = tf.math, tf.random\n",
    "\n",
    "from scipy.stats import norm\n",
    "from polyagamma import random_polyagamma"
   ]
  },
  {
   "cell_type": "markdown",
   "id": "3f3e69d6",
   "metadata": {},
   "source": [
    "## Sampling PG random variables"
   ]
  },
  {
   "cell_type": "code",
   "execution_count": 2,
   "id": "99fb3238",
   "metadata": {
    "id": "99fb3238"
   },
   "outputs": [],
   "source": [
    "__TRUNC = tf.constant(0.64, tf.float64)\n",
    "__TRUNC_RECIP = tf.constant(1.0 / __TRUNC, tf.float64)\n",
    "__PI = tf.constant(3.141592653589793238462643383279502884197, tf.float64)"
   ]
  },
  {
   "cell_type": "code",
   "execution_count": 3,
   "id": "c6ed42f2",
   "metadata": {},
   "outputs": [
    {
     "name": "stderr",
     "output_type": "stream",
     "text": [
      "2023-05-25 18:07:46.969821: W tensorflow/tsl/platform/profile_utils/cpu_utils.cc:128] Failed to get CPU frequency: 0 Hz\n"
     ]
    },
    {
     "data": {
      "text/plain": [
       "<tf.Tensor: shape=(5,), dtype=float64, numpy=array([0.45013698, 0.21829579, 0.22117513, 0.57744319, 0.35125528])>"
      ]
     },
     "execution_count": 3,
     "metadata": {},
     "output_type": "execute_result"
    }
   ],
   "source": [
    "@tf.function\n",
    "def rtigauss(Z, dtype=tf.float64):\n",
    "    Z = tfm.abs(Z)\n",
    "    t = __TRUNC\n",
    "    X = tf.zeros(tf.shape(Z), dtype) + (t + 1.0)\n",
    "\n",
    "    alpha = tf.zeros(tf.shape(Z), dtype)\n",
    "    flag11 = tfr.uniform(tf.shape(Z), dtype=dtype) > alpha\n",
    "\n",
    "    while tf.reduce_any(flag11 == True):\n",
    "        indices11 = tf.squeeze(tf.where(flag11 == True), -1)\n",
    "    \n",
    "        E1 = tf.cast(tfd.Exponential(1.0).sample(tf.shape(indices11)), dtype)\n",
    "        E2 = tf.cast(tfd.Exponential(1.0).sample(tf.shape(indices11)), dtype)\n",
    "    \n",
    "        flag12 = E1*E1 > 2 * E2 / t\n",
    "        while tf.reduce_any(flag12 == True):\n",
    "            indices12 = tf.squeeze(tf.where(flag12 == True), -1)\n",
    "            E1 = tf.tensor_scatter_nd_update(E1, indices12[:,None], tf.cast(tfd.Exponential(1.0).sample(tf.shape(indices12)), dtype))\n",
    "            E2 = tf.tensor_scatter_nd_update(E2, indices12[:,None], tf.cast(tfd.Exponential(1.0).sample(tf.shape(indices12)), dtype))\n",
    "            flag12 = E1*E1 > 2 * E2 / t\n",
    "\n",
    "        X = tf.tensor_scatter_nd_update(X, indices11[:,None], t / ((1 + E1 * t) * (1 + E1 * t)))\n",
    "        \n",
    "        flag11 = tf.tensor_scatter_nd_update(flag11, indices11[:,None], tfr.uniform(tf.shape(indices11), dtype=dtype) > tf.gather(alpha, indices11))\n",
    "        alpha = tf.where(flag11, tfm.exp(-0.5 * Z*Z * X), alpha)\n",
    "        \n",
    "    return X\n",
    "   \n",
    "Z = tf.constant([1.7,0.4,1.8,0.5,0.25], dtype=tf.float64)\n",
    "rtigauss(Z)\n"
   ]
  },
  {
   "cell_type": "code",
   "execution_count": 4,
   "id": "0a7226eb",
   "metadata": {},
   "outputs": [
    {
     "data": {
      "text/plain": [
       "<tf.Tensor: shape=(5,), dtype=float64, numpy=array([0.29842956, 0.5572172 , 0.27517046, 0.54600383, 0.56961312])>"
      ]
     },
     "execution_count": 4,
     "metadata": {},
     "output_type": "execute_result"
    }
   ],
   "source": [
    "@tf.function\n",
    "def mass_texpon(Z):\n",
    "    t = __TRUNC\n",
    "\n",
    "    fz = 0.125 * __PI*__PI + 0.5 * Z*Z\n",
    "    b = tf.cast(tfm.sqrt(1.0 / t) * (t * Z - 1), tf.float32)\n",
    "    a = tf.cast(tfm.sqrt(1.0 / t) * (t * Z + 1) * -1.0, tf.float32)\n",
    "\n",
    "    x0 = tfm.log(fz) + fz * t\n",
    "    xb = x0 - Z + tf.cast(tfd.Normal(loc=0, scale=1).log_cdf(b), tf.float64)\n",
    "    xa = x0 + Z + tf.cast(tfd.Normal(loc=0, scale=1).log_cdf(a), tf.float64)\n",
    "\n",
    "    qdivp = 4 / __PI * ( tfm.exp(xb) + tfm.exp(xa) )\n",
    "\n",
    "    return 1.0 / (1.0 + qdivp)\n",
    "\n",
    "Z = tf.constant([1.7,0.4,1.8,0.5,0.25], dtype=tf.float64)\n",
    "mass_texpon(Z)"
   ]
  },
  {
   "cell_type": "code",
   "execution_count": 5,
   "id": "509ef901",
   "metadata": {},
   "outputs": [
    {
     "data": {
      "text/plain": [
       "<tf.Tensor: shape=(5,), dtype=float64, numpy=array([0.73224913, 0.90361196, 0.5854481 , 0.83021499, 0.66231919])>"
      ]
     },
     "execution_count": 5,
     "metadata": {},
     "output_type": "execute_result"
    }
   ],
   "source": [
    "@tf.function\n",
    "def a(n, X):\n",
    "    n = tf.cast(n, tf.float64)\n",
    "    K = (n + 0.5) * __PI\n",
    "    y = tf.zeros(tf.shape(X), tf.float64)\n",
    "    \n",
    "    flag1 = ( X > __TRUNC )\n",
    "    flag2 = tf.logical_and( X <= __TRUNC, X > 0 )\n",
    "\n",
    "    indices1 = tf.squeeze(tf.where(flag1 == True), -1)\n",
    "    indices2 = tf.squeeze(tf.where(flag2 == True), -1)\n",
    "\n",
    "    X1 = tf.gather(X, indices1)\n",
    "    X2 = tf.gather(X, indices2)\n",
    "    \n",
    "    y = tf.tensor_scatter_nd_update(y, indices1[:,None], K * tfm.exp( -0.5 * K*K * X1 ))\n",
    "    y = tf.tensor_scatter_nd_update(y, indices2[:,None], tfm.exp( -1.5 * (tf.cast(tfm.log(0.5 * __PI), tf.float64) + tfm.log(X2)) + tf.cast(tfm.log(K), tf.float64) - 2.0 * (n+0.5)*(n+0.5) / X2 ))\n",
    "    \n",
    "    return y\n",
    "        \n",
    "X = tf.constant([0.2,0.4,0.8,0.5,0.7], dtype=tf.float64)\n",
    "n = 0\n",
    "a(n, X)    "
   ]
  },
  {
   "cell_type": "code",
   "execution_count": 6,
   "id": "9ef7e3b2",
   "metadata": {},
   "outputs": [
    {
     "data": {
      "text/plain": [
       "<tf.Tensor: shape=(3,), dtype=float64, numpy=array([0.08773415, 0.07223923, 0.35764522])>"
      ]
     },
     "execution_count": 6,
     "metadata": {},
     "output_type": "execute_result"
    }
   ],
   "source": [
    "@tf.function\n",
    "def draw_like_devroye(Z):\n",
    "    # Change the parameter.\n",
    "    Z = tfm.abs(Z) * 0.5\n",
    "\n",
    "    # Now sample 0.25 * J^*(1, Z := Z/2).\n",
    "    fz = 0.125 * __PI*__PI + 0.5 * Z*Z\n",
    "    # ... Problems with large Z?  Try using q_over_p.\n",
    "    # double p  = 0.5 * __PI * exp(-1.0 * fz * __TRUNC) / fz;\n",
    "    # double q  = 2 * exp(-1.0 * Z) * pigauss(__TRUNC, Z);\n",
    "\n",
    "    X = tf.zeros(Z.shape, tf.float64)\n",
    "    S = tf.cast(1, tf.float64)\n",
    "    Y = tf.cast(0, tf.float64)\n",
    "    # int iter = 0; If you want to keep track of iterations.\n",
    "    \n",
    "    flag1 = tf.ones(Z.shape, tf.bool)\n",
    "    while tf.reduce_any(flag1 == True):\n",
    "        indices1 = tf.squeeze(tf.where(flag1 == True), -1)\n",
    "        \n",
    "        Z1 = tf.gather(Z, indices1)\n",
    "        flag2 = tfr.uniform(tf.shape(Z1), dtype=tf.float64) < mass_texpon(Z1)\n",
    "\n",
    "        indices21 = tf.squeeze(tf.where(flag2 == True), -1)\n",
    "        indices22 = tf.squeeze(tf.where(flag2 == False), -1)\n",
    "\n",
    "        X = tf.tensor_scatter_nd_update(X, indices21[:,None], ( __TRUNC + tf.cast(tfd.Exponential(1.0).sample(tf.shape(indices21)), tf.float64) / tf.gather(fz, indices21) ))\n",
    "        X = tf.tensor_scatter_nd_update(X, indices22[:,None], ( rtigauss(tf.gather(Z1, indices22)) ))\n",
    "    \n",
    "        S = a(0, X)\n",
    "        Y = tfr.uniform(tf.shape(X), dtype=tf.float64) * S\n",
    "        n = 0\n",
    "        go = flag1\n",
    "        \n",
    "        while tf.reduce_any(go == True):\n",
    "            indices3 = tf.squeeze(tf.where(go == True), -1)\n",
    "            \n",
    "            # Break infinite loop.  Put first so it always checks n==0.\n",
    "            #ifdef USE_R\n",
    "            #if n % 1000 == 0:\n",
    "            #    return -1\n",
    "\n",
    "            n += 1\n",
    "            \n",
    "            if ( n % 2 == 1 ):\n",
    "                S = S - a(n, X)\n",
    "                          \n",
    "                flag33 = ( Y <= S )\n",
    "                indices33 = tf.squeeze(tf.where(flag33 == True), -1)\n",
    "                          \n",
    "                if tf.reduce_any(flag33 == True):\n",
    "                    go = tf.tensor_scatter_nd_update(go, indices33[:,None], tf.zeros(tf.shape(indices33), tf.bool))\n",
    "                    flag1 = tf.tensor_scatter_nd_update(flag1, indices33[:,None], tf.zeros(tf.shape(indices33), tf.bool))\n",
    "            else:\n",
    "                #print(tf.gather(S, indices3) + a(n, tf.gather(X, indices3)))\n",
    "                S = S + a(n, X)\n",
    "                          \n",
    "                flag34 = ( Y > S )\n",
    "                indices34 = tf.squeeze(tf.where(flag34 == True), -1)\n",
    "                          \n",
    "                if tf.reduce_any(flag34 == True):\n",
    "                    go = tf.tensor_scatter_nd_update(go, indices34[:,None], tf.zeros(tf.shape(indices34), tf.bool))\n",
    "\n",
    "        # Need Y <= S in event that Y = S, e.g. when X = 0.\n",
    "    return 0.25 * X\n",
    "\n",
    "Z = tf.constant([1.0,0.5,0.25], tf.float64)\n",
    "draw_like_devroye(Z)\n"
   ]
  },
  {
   "cell_type": "code",
   "execution_count": 7,
   "id": "8d3b6e66",
   "metadata": {},
   "outputs": [
    {
     "data": {
      "text/plain": [
       "<tf.Tensor: shape=(3,), dtype=float64, numpy=array([1.41229292, 1.06471556, 3.91154018])>"
      ]
     },
     "execution_count": 7,
     "metadata": {},
     "output_type": "execute_result"
    }
   ],
   "source": [
    "#@tf.function\n",
    "def multi_pgdraw(N, Z):\n",
    "    def pgdraw(x):\n",
    "        return draw_like_devroye(Z)\n",
    "    max_N = tf.reduce_max(N)\n",
    "    return tf.reduce_sum(tf.map_fn(pgdraw, tf.range(max_N), fn_output_signature=tf.float64) * tf.cast(tf.transpose(tf.sequence_mask(N, max_N)), tf.float64), axis=0)\n",
    "\n",
    "N = tf.constant([6,5,15], tf.int64)\n",
    "Z = tf.constant([1.65,0.5,0.25], tf.float64)\n",
    "multi_pgdraw(N, Z)"
   ]
  },
  {
   "cell_type": "markdown",
   "id": "dcc4fbbf",
   "metadata": {},
   "source": [
    "## Demo polyagamma package"
   ]
  },
  {
   "cell_type": "code",
   "execution_count": 8,
   "id": "a37273dd",
   "metadata": {},
   "outputs": [
    {
     "data": {
      "text/plain": [
       "array([0.98459407, 0.92093287, 3.64374506])"
      ]
     },
     "execution_count": 8,
     "metadata": {},
     "output_type": "execute_result"
    }
   ],
   "source": [
    "N = tf.constant([6,5,15], tf.int64)\n",
    "Z = tf.constant([1.65,0.5,0.25], tf.float64)\n",
    "np.array([random_polyagamma(n, z, disable_checks=True) for n,z in zip(N,Z)])"
   ]
  },
  {
   "cell_type": "markdown",
   "id": "5b26836c",
   "metadata": {},
   "source": [
    "## Compare PG-py versus PG-tf"
   ]
  },
  {
   "cell_type": "code",
   "execution_count": 12,
   "id": "a8441365",
   "metadata": {},
   "outputs": [],
   "source": [
    "m = 10000\n",
    "Z = tfr.normal([m], 0, 1, tf.float64)\n",
    "N = tfr.uniform(shape=(m,), minval=9, maxval=10, dtype=tf.int32)\n",
    "\n",
    "xs = multi_pgdraw(N, Z)\n",
    "xx = np.array([random_polyagamma(n, z, disable_checks=True) for n,z in zip(N,Z)])"
   ]
  },
  {
   "cell_type": "code",
   "execution_count": 13,
   "id": "c9fc461a",
   "metadata": {},
   "outputs": [
    {
     "data": {
      "image/png": "[encoded data removed]",
      "text/plain": [
       "<Figure size 500x400 with 1 Axes>"
      ]
     },
     "metadata": {},
     "output_type": "display_data"
    }
   ],
   "source": [
    "import matplotlib.pyplot as plt\n",
    "\n",
    "# Plot the results\n",
    "plt.figure(figsize=(5,4))\n",
    "plt.hist(xs, 50, color='b', alpha=0.5, label=\"Samples of tf-pg\")\n",
    "plt.hist(xx, 50, color='r', alpha=0.5, label=\"Samples of py-pg\")\n",
    "#plt.plot(xx, post, '-b', lw=2, label=\"$p(x | y)$\")\n",
    "ylim = plt.ylim()\n",
    "#plt.plot([x_true, x_true], ylim, '-r', lw=2, label=\"True $x$\")\n",
    "plt.ylim(ylim)\n",
    "plt.xlabel(\"$x$\")\n",
    "plt.ylabel(\"frequency\")\n",
    "plt.legend(loc=\"upper right\", fontsize=10)\n",
    "plt.tight_layout()\n",
    "#plt.savefig(\"aux/binomial.png\")\n",
    "plt.show()"
   ]
  }
 ],
 "metadata": {
  "colab": {
   "provenance": []
  },
  "kernelspec": {
   "display_name": "Python 3 (ipykernel)",
   "language": "python",
   "name": "python3"
  },
  "language_info": {
   "codemirror_mode": {
    "name": "ipython",
    "version": 3
   },
   "file_extension": ".py",
   "mimetype": "text/x-python",
   "name": "python",
   "nbconvert_exporter": "python",
   "pygments_lexer": "ipython3",
   "version": "3.10.6"
  }
 },
 "nbformat": 4,
 "nbformat_minor": 5
}
