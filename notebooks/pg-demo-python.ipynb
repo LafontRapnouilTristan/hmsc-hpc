{
 "cells": [
  {
   "cell_type": "code",
   "execution_count": 12,
   "id": "aba3ee8f",
   "metadata": {
    "id": "aba3ee8f"
   },
   "outputs": [],
   "source": [
    "import math\n",
    "import numpy as np\n",
    "import matplotlib.pyplot as plt\n",
    "import tensorflow as tf\n",
    "import tensorflow_probability as tfp\n",
    "\n",
    "tfd = tfp.distributions\n",
    "tfm, tfr = tf.math, tf.random\n",
    "\n",
    "from scipy.stats import norm\n",
    "from polyagamma import random_polyagamma"
   ]
  },
  {
   "cell_type": "markdown",
   "id": "3f3e69d6",
   "metadata": {},
   "source": [
    "## Sampling PG random variables"
   ]
  },
  {
   "cell_type": "code",
   "execution_count": 13,
   "id": "3140b190",
   "metadata": {},
   "outputs": [],
   "source": [
    "from scipy.stats import norm, expon"
   ]
  },
  {
   "cell_type": "code",
   "execution_count": 14,
   "id": "31b7db5d",
   "metadata": {},
   "outputs": [],
   "source": [
    "__TRUNC = 0.64\n",
    "__TRUNC_RECIP = 1.0 / __TRUNC\n",
    "__PI = 3.141592653589793238462643383279502884197"
   ]
  },
  {
   "cell_type": "code",
   "execution_count": 15,
   "id": "4e95ab37",
   "metadata": {},
   "outputs": [
    {
     "data": {
      "text/plain": [
       "1.1393444387823606"
      ]
     },
     "execution_count": 15,
     "metadata": {},
     "output_type": "execute_result"
    }
   ],
   "source": [
    "def expon_mean(x):\n",
    "    return np.random.exponential(x)\n",
    "    \n",
    "def expon_rate(rate):\n",
    "    return expon_mean(1.0 / rate)\n",
    "\n",
    "expon_rate(1.0)"
   ]
  },
  {
   "cell_type": "code",
   "execution_count": 16,
   "id": "7947e30d",
   "metadata": {},
   "outputs": [
    {
     "data": {
      "text/plain": [
       "[0, 8.815360750016663e-05, 4.752489859638189e-09, 1.2863638699829978e-07, 0]"
      ]
     },
     "execution_count": 16,
     "metadata": {},
     "output_type": "execute_result"
    }
   ],
   "source": [
    "def a(n, x):\n",
    "    K = (n + 0.5) * __PI\n",
    "    y = 0\n",
    "    if (x > __TRUNC):\n",
    "        y = K * np.exp( -0.5 * K*K * x )\n",
    "    elif (x > 0):\n",
    "        expnt = -1.5 * (np.log(0.5 * __PI)  + np.log(x)) + np.log(K) - 2.0 * (n+0.5)*(n+0.5) / x\n",
    "        y = np.exp(expnt)\n",
    "        # y = pow(0.5 * __PI * x, -1.5) * K * exp( -2.0 * (n+0.5)*(n+0.5) / x);\n",
    "        # ^- unstable for small x?\n",
    "    return y\n",
    "\n",
    "Z = np.random.normal(0, 1, size=(5,))\n",
    "[a(1,x) for x in Z]"
   ]
  },
  {
   "cell_type": "code",
   "execution_count": 22,
   "id": "deb760f4",
   "metadata": {},
   "outputs": [
    {
     "data": {
      "text/plain": [
       "[0.5759707408326631,\n",
       " 0.5770896000716655,\n",
       " 0.577587051549322,\n",
       " 0.4328463538051182,\n",
       " 0.5354566304468711]"
      ]
     },
     "execution_count": 22,
     "metadata": {},
     "output_type": "execute_result"
    }
   ],
   "source": [
    "def mass_texpon(Z):\n",
    "    t = __TRUNC\n",
    "\n",
    "    fz = 0.125 * __PI*__PI + 0.5 * Z*Z\n",
    "    b = np.sqrt(1.0 / t) * (t * Z - 1)\n",
    "    a = np.sqrt(1.0 / t) * (t * Z + 1) * -1.0\n",
    "\n",
    "    x0 = np.log(fz) + fz * t\n",
    "    xb = x0 - Z + norm.logcdf(b)\n",
    "    xa = x0 + Z + norm.logcdf(a)\n",
    "\n",
    "    qdivp = 4 / __PI * ( np.exp(xb) + np.exp(xa) )\n",
    "\n",
    "    return 1.0 / (1.0 + qdivp)\n",
    "\n",
    "Z = np.random.normal(0, 1, size=(5,))\n",
    "[mass_texpon(x) for x in Z]"
   ]
  },
  {
   "cell_type": "code",
   "execution_count": 23,
   "id": "bbda4460",
   "metadata": {},
   "outputs": [
    {
     "data": {
      "text/plain": [
       "[0.125966768348017,\n",
       " 0.6063584198525717,\n",
       " 0.6378608172192228,\n",
       " 0.4921481932804687,\n",
       " 0.45356574668944283]"
      ]
     },
     "execution_count": 23,
     "metadata": {},
     "output_type": "execute_result"
    }
   ],
   "source": [
    "def rtigauss(Z):\n",
    "    Z = np.fabs(Z)\n",
    "    t = __TRUNC\n",
    "    X = t + 1.0\n",
    "    if (__TRUNC_RECIP > Z): # mu > t\n",
    "        alpha = 0.0\n",
    "        while (np.random.uniform() > alpha):\n",
    "            # X = t + 1.0;\n",
    "            # while (X > t)\n",
    "            # \tX = 1.0 / r.gamma_rate(0.5, 0.5);\n",
    "            # Slightly faster to use truncated normal.\n",
    "            E1 = expon_rate(1.0)\n",
    "            E2 = expon_rate(1.0)\n",
    "            while ( E1*E1 > 2 * E2 / t):\n",
    "                E1 = expon_rate(1.0)\n",
    "                E2 = expon_rate(1.0)\n",
    "            X = 1 + E1 * t\n",
    "            X = t / (X * X)\n",
    "            alpha = np.exp(-0.5 * Z*Z * X)\n",
    "    else:\n",
    "        mu = 1.0 / Z\n",
    "        while (X > t):\n",
    "            Y = np.random.normal(1.0)\n",
    "            Y *= Y\n",
    "            half_mu = 0.5 * mu\n",
    "            mu_Y    = mu  * Y\n",
    "            X = mu + half_mu * mu_Y - half_mu * np.sqrt(4 * mu_Y + mu_Y * mu_Y)\n",
    "            if (np.random.uniform() > mu / (mu + X)):\n",
    "                X = mu*mu / X\n",
    "    return X\n",
    "\n",
    "Z = np.random.normal(0, 1, size=(5,))\n",
    "[rtigauss(x) for x in Z]"
   ]
  },
  {
   "cell_type": "code",
   "execution_count": 24,
   "id": "e0df9308",
   "metadata": {},
   "outputs": [
    {
     "data": {
      "text/plain": [
       "[0.4371826895563695,\n",
       " 0.16400530158874663,\n",
       " 0.35880383354745526,\n",
       " 0.6071049476756947,\n",
       " 0.1037132194012459]"
      ]
     },
     "execution_count": 24,
     "metadata": {},
     "output_type": "execute_result"
    }
   ],
   "source": [
    "def draw_like_devroye(Z):\n",
    "    # Change the parameter.\n",
    "    Z = np.fabs(Z) * 0.5\n",
    "\n",
    "    # Now sample 0.25 * J^*(1, Z := Z/2).\n",
    "    fz = 0.125 * __PI*__PI + 0.5 * Z*Z\n",
    "    # ... Problems with large Z?  Try using q_over_p.\n",
    "    # double p  = 0.5 * __PI * exp(-1.0 * fz * __TRUNC) / fz;\n",
    "    # double q  = 2 * exp(-1.0 * Z) * pigauss(__TRUNC, Z);\n",
    "\n",
    "    X = 0.0\n",
    "    S = 1.0\n",
    "    Y = 0.0\n",
    "    # int iter = 0; If you want to keep track of iterations.\n",
    "\n",
    "    while (True):\n",
    "\n",
    "        # if (r.unif() < p/(p+q))\n",
    "        if ( np.random.uniform() < mass_texpon(Z) ):\n",
    "            X = __TRUNC + expon_rate(1) / fz\n",
    "        else:\n",
    "            X = rtigauss(Z)\n",
    "\n",
    "        S = a(0, X)\n",
    "        Y = np.random.uniform() * S\n",
    "        n = 0\n",
    "        go = True\n",
    "\n",
    "        # Cap the number of iterations?\n",
    "        while (go):\n",
    "\n",
    "            # Break infinite loop.  Put first so it always checks n==0.\n",
    "            #ifdef USE_R\n",
    "            #if (n % 1000 == 0) R_CheckUserInterrupt();\n",
    "            #endif\n",
    "\n",
    "            n += 1\n",
    "            if (n%2==1):\n",
    "                S = S - a(n, X)\n",
    "                if ( Y<=S ):\n",
    "                    return 0.25 * X\n",
    "            else:\n",
    "                S = S + a(n, X)\n",
    "                if ( Y>S ):\n",
    "                    go = False\n",
    "                    \n",
    "        # Need Y <= S in event that Y = S, e.g. when X = 0.\n",
    "\n",
    "Z = np.random.normal(0, 1, size=(5,))\n",
    "[draw_like_devroye(x) for x in Z]"
   ]
  },
  {
   "cell_type": "code",
   "execution_count": 25,
   "id": "526e25e6",
   "metadata": {},
   "outputs": [
    {
     "data": {
      "text/plain": [
       "3.2944085972194737"
      ]
     },
     "execution_count": 25,
     "metadata": {},
     "output_type": "execute_result"
    }
   ],
   "source": [
    "def multi_pgdraw(n, Z):\n",
    "    return np.sum([draw_like_devroye(Z) for i in range(n)])\n",
    "\n",
    "multi_pgdraw(10, 0.5)"
   ]
  },
  {
   "cell_type": "code",
   "execution_count": 26,
   "id": "5453cbe2",
   "metadata": {},
   "outputs": [
    {
     "data": {
      "image/png": "[encoded data removed]",
      "text/plain": [
       "<Figure size 500x400 with 1 Axes>"
      ]
     },
     "metadata": {},
     "output_type": "display_data"
    }
   ],
   "source": [
    "n = 10\n",
    "Z = np.random.normal(0, 1, size=(10000,))\n",
    "xs = [multi_pgdraw(n,x) for x in Z]\n",
    "xx = random_polyagamma(n, Z, disable_checks=True)\n",
    "\n",
    "# Plot the results\n",
    "plt.figure(figsize=(5,4))\n",
    "plt.hist(xs, 50, color='b', alpha=0.5, label=\"Samples of tf-pg\")\n",
    "plt.hist(xx, 50, color='r', alpha=0.5, label=\"Samples of py-pg\")\n",
    "#plt.plot(xx, post, '-b', lw=2, label=\"$p(x | y)$\")\n",
    "ylim = plt.ylim()\n",
    "#plt.plot([x_true, x_true], ylim, '-r', lw=2, label=\"True $x$\")\n",
    "plt.ylim(ylim)\n",
    "plt.xlabel(\"$x$\")\n",
    "plt.ylabel(\"frequency\")\n",
    "plt.legend(loc=\"upper right\", fontsize=10)\n",
    "plt.tight_layout()\n",
    "#plt.savefig(\"aux/binomial.png\")\n",
    "plt.show()"
   ]
  }
 ],
 "metadata": {
  "colab": {
   "provenance": []
  },
  "kernelspec": {
   "display_name": "Python 3 (ipykernel)",
   "language": "python",
   "name": "python3"
  },
  "language_info": {
   "codemirror_mode": {
    "name": "ipython",
    "version": 3
   },
   "file_extension": ".py",
   "mimetype": "text/x-python",
   "name": "python",
   "nbconvert_exporter": "python",
   "pygments_lexer": "ipython3",
   "version": "3.10.6"
  }
 },
 "nbformat": 4,
 "nbformat_minor": 5
}
